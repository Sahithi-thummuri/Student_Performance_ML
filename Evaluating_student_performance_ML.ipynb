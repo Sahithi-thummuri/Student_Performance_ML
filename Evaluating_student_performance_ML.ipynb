{
 "cells": [
  {
   "cell_type": "markdown",
   "id": "604e4c4d",
   "metadata": {},
   "source": [
    "### Importing Libraries"
   ]
  },
  {
   "cell_type": "code",
   "execution_count": 6,
   "id": "128a1755",
   "metadata": {},
   "outputs": [],
   "source": [
    "import numpy as np \n",
    "import pandas as pd \n",
    "import seaborn as sns\n",
    "import matplotlib.pyplot as plt\n"
   ]
  },
  {
   "cell_type": "code",
   "execution_count": 7,
   "id": "f42d47df",
   "metadata": {},
   "outputs": [
    {
     "data": {
      "text/html": [
       "<div>\n",
       "<style scoped>\n",
       "    .dataframe tbody tr th:only-of-type {\n",
       "        vertical-align: middle;\n",
       "    }\n",
       "\n",
       "    .dataframe tbody tr th {\n",
       "        vertical-align: top;\n",
       "    }\n",
       "\n",
       "    .dataframe thead th {\n",
       "        text-align: right;\n",
       "    }\n",
       "</style>\n",
       "<table border=\"1\" class=\"dataframe\">\n",
       "  <thead>\n",
       "    <tr style=\"text-align: right;\">\n",
       "      <th></th>\n",
       "      <th>Hours Studied</th>\n",
       "      <th>Previous Scores</th>\n",
       "      <th>Extracurricular Activities</th>\n",
       "      <th>Sleep Hours</th>\n",
       "      <th>Sample Question Papers Practiced</th>\n",
       "      <th>Performance Index</th>\n",
       "    </tr>\n",
       "  </thead>\n",
       "  <tbody>\n",
       "    <tr>\n",
       "      <th>0</th>\n",
       "      <td>7</td>\n",
       "      <td>99</td>\n",
       "      <td>Yes</td>\n",
       "      <td>9</td>\n",
       "      <td>1</td>\n",
       "      <td>91.0</td>\n",
       "    </tr>\n",
       "    <tr>\n",
       "      <th>1</th>\n",
       "      <td>4</td>\n",
       "      <td>82</td>\n",
       "      <td>No</td>\n",
       "      <td>4</td>\n",
       "      <td>2</td>\n",
       "      <td>65.0</td>\n",
       "    </tr>\n",
       "    <tr>\n",
       "      <th>2</th>\n",
       "      <td>8</td>\n",
       "      <td>51</td>\n",
       "      <td>Yes</td>\n",
       "      <td>7</td>\n",
       "      <td>2</td>\n",
       "      <td>45.0</td>\n",
       "    </tr>\n",
       "    <tr>\n",
       "      <th>3</th>\n",
       "      <td>5</td>\n",
       "      <td>52</td>\n",
       "      <td>Yes</td>\n",
       "      <td>5</td>\n",
       "      <td>2</td>\n",
       "      <td>36.0</td>\n",
       "    </tr>\n",
       "    <tr>\n",
       "      <th>4</th>\n",
       "      <td>7</td>\n",
       "      <td>75</td>\n",
       "      <td>No</td>\n",
       "      <td>8</td>\n",
       "      <td>5</td>\n",
       "      <td>66.0</td>\n",
       "    </tr>\n",
       "  </tbody>\n",
       "</table>\n",
       "</div>"
      ],
      "text/plain": [
       "   Hours Studied  Previous Scores Extracurricular Activities  Sleep Hours  \\\n",
       "0              7               99                        Yes            9   \n",
       "1              4               82                         No            4   \n",
       "2              8               51                        Yes            7   \n",
       "3              5               52                        Yes            5   \n",
       "4              7               75                         No            8   \n",
       "\n",
       "   Sample Question Papers Practiced  Performance Index  \n",
       "0                                 1               91.0  \n",
       "1                                 2               65.0  \n",
       "2                                 2               45.0  \n",
       "3                                 2               36.0  \n",
       "4                                 5               66.0  "
      ]
     },
     "execution_count": 7,
     "metadata": {},
     "output_type": "execute_result"
    }
   ],
   "source": [
    "data=pd.read_csv('Student_Performance.csv')\n",
    "data.head()"
   ]
  },
  {
   "cell_type": "code",
   "execution_count": 9,
   "id": "555163df",
   "metadata": {},
   "outputs": [
    {
     "data": {
      "text/plain": [
       "(10000, 6)"
      ]
     },
     "execution_count": 9,
     "metadata": {},
     "output_type": "execute_result"
    }
   ],
   "source": [
    "data.shape"
   ]
  },
  {
   "cell_type": "code",
   "execution_count": 11,
   "id": "3f6c3f18",
   "metadata": {},
   "outputs": [
    {
     "data": {
      "text/html": [
       "<div>\n",
       "<style scoped>\n",
       "    .dataframe tbody tr th:only-of-type {\n",
       "        vertical-align: middle;\n",
       "    }\n",
       "\n",
       "    .dataframe tbody tr th {\n",
       "        vertical-align: top;\n",
       "    }\n",
       "\n",
       "    .dataframe thead th {\n",
       "        text-align: right;\n",
       "    }\n",
       "</style>\n",
       "<table border=\"1\" class=\"dataframe\">\n",
       "  <thead>\n",
       "    <tr style=\"text-align: right;\">\n",
       "      <th></th>\n",
       "      <th>Hours Studied</th>\n",
       "      <th>Previous Scores</th>\n",
       "      <th>Sleep Hours</th>\n",
       "      <th>Sample Question Papers Practiced</th>\n",
       "      <th>Performance Index</th>\n",
       "    </tr>\n",
       "  </thead>\n",
       "  <tbody>\n",
       "    <tr>\n",
       "      <th>count</th>\n",
       "      <td>10000.000000</td>\n",
       "      <td>10000.000000</td>\n",
       "      <td>10000.000000</td>\n",
       "      <td>10000.000000</td>\n",
       "      <td>10000.000000</td>\n",
       "    </tr>\n",
       "    <tr>\n",
       "      <th>mean</th>\n",
       "      <td>4.992900</td>\n",
       "      <td>69.445700</td>\n",
       "      <td>6.530600</td>\n",
       "      <td>4.583300</td>\n",
       "      <td>55.224800</td>\n",
       "    </tr>\n",
       "    <tr>\n",
       "      <th>std</th>\n",
       "      <td>2.589309</td>\n",
       "      <td>17.343152</td>\n",
       "      <td>1.695863</td>\n",
       "      <td>2.867348</td>\n",
       "      <td>19.212558</td>\n",
       "    </tr>\n",
       "    <tr>\n",
       "      <th>min</th>\n",
       "      <td>1.000000</td>\n",
       "      <td>40.000000</td>\n",
       "      <td>4.000000</td>\n",
       "      <td>0.000000</td>\n",
       "      <td>10.000000</td>\n",
       "    </tr>\n",
       "    <tr>\n",
       "      <th>25%</th>\n",
       "      <td>3.000000</td>\n",
       "      <td>54.000000</td>\n",
       "      <td>5.000000</td>\n",
       "      <td>2.000000</td>\n",
       "      <td>40.000000</td>\n",
       "    </tr>\n",
       "    <tr>\n",
       "      <th>50%</th>\n",
       "      <td>5.000000</td>\n",
       "      <td>69.000000</td>\n",
       "      <td>7.000000</td>\n",
       "      <td>5.000000</td>\n",
       "      <td>55.000000</td>\n",
       "    </tr>\n",
       "    <tr>\n",
       "      <th>75%</th>\n",
       "      <td>7.000000</td>\n",
       "      <td>85.000000</td>\n",
       "      <td>8.000000</td>\n",
       "      <td>7.000000</td>\n",
       "      <td>71.000000</td>\n",
       "    </tr>\n",
       "    <tr>\n",
       "      <th>max</th>\n",
       "      <td>9.000000</td>\n",
       "      <td>99.000000</td>\n",
       "      <td>9.000000</td>\n",
       "      <td>9.000000</td>\n",
       "      <td>100.000000</td>\n",
       "    </tr>\n",
       "  </tbody>\n",
       "</table>\n",
       "</div>"
      ],
      "text/plain": [
       "       Hours Studied  Previous Scores   Sleep Hours  \\\n",
       "count   10000.000000     10000.000000  10000.000000   \n",
       "mean        4.992900        69.445700      6.530600   \n",
       "std         2.589309        17.343152      1.695863   \n",
       "min         1.000000        40.000000      4.000000   \n",
       "25%         3.000000        54.000000      5.000000   \n",
       "50%         5.000000        69.000000      7.000000   \n",
       "75%         7.000000        85.000000      8.000000   \n",
       "max         9.000000        99.000000      9.000000   \n",
       "\n",
       "       Sample Question Papers Practiced  Performance Index  \n",
       "count                      10000.000000       10000.000000  \n",
       "mean                           4.583300          55.224800  \n",
       "std                            2.867348          19.212558  \n",
       "min                            0.000000          10.000000  \n",
       "25%                            2.000000          40.000000  \n",
       "50%                            5.000000          55.000000  \n",
       "75%                            7.000000          71.000000  \n",
       "max                            9.000000         100.000000  "
      ]
     },
     "execution_count": 11,
     "metadata": {},
     "output_type": "execute_result"
    }
   ],
   "source": [
    "data.describe()"
   ]
  },
  {
   "cell_type": "code",
   "execution_count": 12,
   "id": "21f94126",
   "metadata": {},
   "outputs": [
    {
     "name": "stdout",
     "output_type": "stream",
     "text": [
      "<class 'pandas.core.frame.DataFrame'>\n",
      "RangeIndex: 10000 entries, 0 to 9999\n",
      "Data columns (total 6 columns):\n",
      " #   Column                            Non-Null Count  Dtype  \n",
      "---  ------                            --------------  -----  \n",
      " 0   Hours Studied                     10000 non-null  int64  \n",
      " 1   Previous Scores                   10000 non-null  int64  \n",
      " 2   Extracurricular Activities        10000 non-null  object \n",
      " 3   Sleep Hours                       10000 non-null  int64  \n",
      " 4   Sample Question Papers Practiced  10000 non-null  int64  \n",
      " 5   Performance Index                 10000 non-null  float64\n",
      "dtypes: float64(1), int64(4), object(1)\n",
      "memory usage: 468.9+ KB\n"
     ]
    }
   ],
   "source": [
    "data.info()"
   ]
  },
  {
   "cell_type": "code",
   "execution_count": 14,
   "id": "c11dbabc",
   "metadata": {},
   "outputs": [
    {
     "data": {
      "text/plain": [
       "Hours Studied                       0\n",
       "Previous Scores                     0\n",
       "Extracurricular Activities          0\n",
       "Sleep Hours                         0\n",
       "Sample Question Papers Practiced    0\n",
       "Performance Index                   0\n",
       "dtype: int64"
      ]
     },
     "execution_count": 14,
     "metadata": {},
     "output_type": "execute_result"
    }
   ],
   "source": [
    "#check for missing values\n",
    "data.isna().sum()"
   ]
  },
  {
   "cell_type": "markdown",
   "id": "55718bec",
   "metadata": {},
   "source": [
    "There are no null values , which is a good thing. Reduced work-load for data cleaning."
   ]
  },
  {
   "cell_type": "markdown",
   "id": "5793ad19",
   "metadata": {},
   "source": [
    "### Data Analysis"
   ]
  },
  {
   "cell_type": "code",
   "execution_count": 16,
   "id": "3b1656cc",
   "metadata": {},
   "outputs": [
    {
     "data": {
      "image/png": "[encoded data removed]",
      "text/plain": [
       "<Figure size 432x288 with 1 Axes>"
      ]
     },
     "metadata": {
      "needs_background": "light"
     },
     "output_type": "display_data"
    }
   ],
   "source": [
    "#Scatter plot to understand performace index vs hours studied\n",
    "plt.scatter(data['Hours Studied'],data['Performance Index'])\n",
    "plt.xlabel('no:of hours studied')\n",
    "plt.ylabel('Performance')\n",
    "plt.show()"
   ]
  },
  {
   "cell_type": "markdown",
   "id": "942e1475",
   "metadata": {},
   "source": [
    "We can see the performace index increasing with the hours spent to study. (Positive Relation)"
   ]
  },
  {
   "cell_type": "code",
   "execution_count": 22,
   "id": "8debf8db",
   "metadata": {},
   "outputs": [
    {
     "data": {
      "image/png": "[encoded data removed]",
      "text/plain": [
       "<Figure size 432x288 with 1 Axes>"
      ]
     },
     "metadata": {
      "needs_background": "light"
     },
     "output_type": "display_data"
    }
   ],
   "source": [
    "#students involved and not involved in extracurricular activities are almost equal\n",
    "plt.bar(data['Extracurricular Activities'],data['Performance Index'])\n",
    "plt.show()"
   ]
  },
  {
   "cell_type": "code",
   "execution_count": 27,
   "id": "cfd4941b",
   "metadata": {},
   "outputs": [
    {
     "data": {
      "image/png": "[encoded data removed]",
      "text/plain": [
       "<Figure size 432x288 with 1 Axes>"
      ]
     },
     "metadata": {
      "needs_background": "light"
     },
     "output_type": "display_data"
    }
   ],
   "source": [
    "# Create a DataFrame\n",
    "df = pd.DataFrame(data)\n",
    "\n",
    "# Create a scatter plot\n",
    "plt.scatter(df['Previous Scores'], df['Performance Index'], c='green', marker='o', label='Data Points')\n",
    "\n",
    "# Add labels and title\n",
    "plt.xlabel('Previous Scores')\n",
    "plt.ylabel('Performance Index')\n",
    "plt.title('Scatter Plot: Previous Scores vs. Performance Index')\n",
    "\n",
    "# Show the plot\n",
    "plt.grid(True)\n",
    "plt.legend()\n",
    "plt.show()"
   ]
  },
  {
   "cell_type": "markdown",
   "id": "5ed43822",
   "metadata": {},
   "source": [
    "Students with good scores previously have a better performance index"
   ]
  },
  {
   "cell_type": "code",
   "execution_count": 24,
   "id": "3ee277bf",
   "metadata": {},
   "outputs": [
    {
     "data": {
      "image/png": "[encoded data removed]",
      "text/plain": [
       "<Figure size 432x288 with 1 Axes>"
      ]
     },
     "metadata": {
      "needs_background": "light"
     },
     "output_type": "display_data"
    }
   ],
   "source": [
    "#Scatter plot to understand performace index vs hours slept\n",
    "plt.scatter(data['Sleep Hours'],data['Performance Index'])\n",
    "plt.xlabel('no:of hours sleep')\n",
    "plt.ylabel('Performance')\n",
    "plt.show()"
   ]
  },
  {
   "cell_type": "markdown",
   "id": "449c78bc",
   "metadata": {},
   "source": [
    "Doesn't show much effect on performace"
   ]
  },
  {
   "cell_type": "code",
   "execution_count": 29,
   "id": "68b9c0cd",
   "metadata": {},
   "outputs": [
    {
     "data": {
      "text/plain": [
       "Text(0, 0.5, 'Performance Index')"
      ]
     },
     "execution_count": 29,
     "metadata": {},
     "output_type": "execute_result"
    },
    {
     "data": {
      "image/png": "[encoded data removed]",
      "text/plain": [
       "<Figure size 432x288 with 1 Axes>"
      ]
     },
     "metadata": {
      "needs_background": "light"
     },
     "output_type": "display_data"
    }
   ],
   "source": [
    "#Is doing sample paper necessary??\n",
    "plt.scatter(data['Sample Question Papers Practiced'],data['Performance Index'])\n",
    "plt.xlabel('Sample Question Papers Practiced')\n",
    "plt.ylabel('Performance Index')"
   ]
  },
  {
   "cell_type": "code",
   "execution_count": 34,
   "id": "ffb670f1",
   "metadata": {},
   "outputs": [
    {
     "data": {
      "text/plain": [
       "6"
      ]
     },
     "execution_count": 34,
     "metadata": {},
     "output_type": "execute_result"
    }
   ],
   "source": [
    "#How many hours did students spend for sleep in avg taking from top 20\n",
    "df=data.tail(20)\n",
    "df['Sleep Hours'].sum()//20"
   ]
  },
  {
   "cell_type": "markdown",
   "id": "e8a2cbcc",
   "metadata": {},
   "source": [
    "### Model Building"
   ]
  },
  {
   "cell_type": "code",
   "execution_count": 40,
   "id": "226b0eb7",
   "metadata": {},
   "outputs": [],
   "source": [
    "from sklearn.linear_model import LinearRegression,Ridge,Lasso\n",
    "from sklearn.tree import DecisionTreeRegressor\n",
    "from sklearn.ensemble import RandomForestRegressor,AdaBoostRegressor\n",
    "from sklearn.metrics import confusion_matrix\n",
    "from sklearn.model_selection import train_test_split\n",
    "from sklearn.svm import SVR\n",
    "from sklearn.metrics import accuracy_score,r2_score,mean_squared_error,mean_absolute_error\n",
    "from sklearn.neighbors import KNeighborsRegressor\n",
    "from xgboost import XGBRegressor\n",
    "from sklearn import preprocessing"
   ]
  },
  {
   "cell_type": "code",
   "execution_count": 41,
   "id": "326daff5",
   "metadata": {},
   "outputs": [
    {
     "name": "stderr",
     "output_type": "stream",
     "text": [
      "/var/folders/dp/vc53f6v51nb4jrksl7zrkl880000gn/T/ipykernel_33909/849883336.py:4: SettingWithCopyWarning: \n",
      "A value is trying to be set on a copy of a slice from a DataFrame.\n",
      "Try using .loc[row_indexer,col_indexer] = value instead\n",
      "\n",
      "See the caveats in the documentation: https://pandas.pydata.org/pandas-docs/stable/user_guide/indexing.html#returning-a-view-versus-a-copy\n",
      "  df['Extracurricular Activities']= label_encoder.fit_transform(df['Extracurricular Activities'])\n"
     ]
    }
   ],
   "source": [
    "#Label Encoding\n",
    "\n",
    "label_encoder = preprocessing.LabelEncoder()\n",
    "df['Extracurricular Activities']= label_encoder.fit_transform(df['Extracurricular Activities'])"
   ]
  },
  {
   "cell_type": "code",
   "execution_count": 43,
   "id": "b42a71e0",
   "metadata": {},
   "outputs": [],
   "source": [
    "#splitting the dataset\n",
    "\n",
    "x = df.drop('Performance Index',axis=1)\n",
    "y = df['Performance Index']\n",
    "\n",
    "x_train,x_test,y_train,y_test = train_test_split(x,y,test_size = 0.15,shuffle = True,random_state=30)\n"
   ]
  },
  {
   "cell_type": "code",
   "execution_count": 44,
   "id": "bba7b0b6",
   "metadata": {},
   "outputs": [
    {
     "name": "stdout",
     "output_type": "stream",
     "text": [
      "Model: Linear Regression\n",
      "Model Performance for Training set:\n",
      "Root Mean Squared Error: 1.1183477638537087\n",
      "Mean Absolute Error: 0.8901839859654757\n",
      "R2 Score: 0.9974121683538462\n",
      "-----------------------------------------------------------\n",
      "Model Performance for Testing set:\n",
      "Root Mean Squared Error: 0.7733578771153784\n",
      "Mean Absolute Error: 0.689422269657347\n",
      "R2 Score: 0.9992896883538047\n",
      "\n",
      "Model: Lasso\n",
      "Model Performance for Training set:\n",
      "Root Mean Squared Error: 1.65763027419797\n",
      "Mean Absolute Error: 1.2572063925727026\n",
      "R2 Score: 0.9943146446840788\n",
      "-----------------------------------------------------------\n",
      "Model Performance for Testing set:\n",
      "Root Mean Squared Error: 1.7730441065267655\n",
      "Mean Absolute Error: 1.5149107557218475\n",
      "R2 Score: 0.9962664068839795\n",
      "\n",
      "Model: Ridge\n",
      "Model Performance for Training set:\n",
      "Root Mean Squared Error: 1.1360983423014124\n",
      "Mean Absolute Error: 0.8973203136873347\n",
      "R2 Score: 0.9973293675334219\n",
      "-----------------------------------------------------------\n",
      "Model Performance for Testing set:\n",
      "Root Mean Squared Error: 0.7533160850763332\n",
      "Mean Absolute Error: 0.6062142269468017\n",
      "R2 Score: 0.9993260271686049\n",
      "\n",
      "Model: k-Neighbors Regression\n",
      "Model Performance for Training set:\n",
      "Root Mean Squared Error: 5.583167981162877\n",
      "Mean Absolute Error: 4.235294117647059\n",
      "R2 Score: 0.9355023841230293\n",
      "-----------------------------------------------------------\n",
      "Model Performance for Testing set:\n",
      "Root Mean Squared Error: 6.4673539153711594\n",
      "Mean Absolute Error: 5.800000000000001\n",
      "R2 Score: 0.9503246239113222\n",
      "\n",
      "Model: Decision Tree\n",
      "Model Performance for Training set:\n",
      "Root Mean Squared Error: 0.0\n",
      "Mean Absolute Error: 0.0\n",
      "R2 Score: 1.0\n",
      "-----------------------------------------------------------\n",
      "Model Performance for Testing set:\n",
      "Root Mean Squared Error: 11.343133018115703\n",
      "Mean Absolute Error: 10.666666666666666\n",
      "R2 Score: 0.8471892319873318\n",
      "\n",
      "Model: Random Forest Regressor\n",
      "Model Performance for Training set:\n",
      "Root Mean Squared Error: 2.6376828066003877\n",
      "Mean Absolute Error: 2.026470588235295\n",
      "R2 Score: 0.9856044782851497\n",
      "-----------------------------------------------------------\n",
      "Model Performance for Testing set:\n",
      "Root Mean Squared Error: 5.144890669392304\n",
      "Mean Absolute Error: 4.976666666666667\n",
      "R2 Score: 0.9685630641330166\n",
      "\n",
      "Model: AdaBoost Regressor\n",
      "Model Performance for Training set:\n",
      "Root Mean Squared Error: 0.9173348723197307\n",
      "Mean Absolute Error: 0.42156862745098067\n",
      "R2 Score: 0.9982588424155932\n",
      "-----------------------------------------------------------\n",
      "Model Performance for Testing set:\n",
      "Root Mean Squared Error: 6.484854148963825\n",
      "Mean Absolute Error: 6.133333333333333\n",
      "R2 Score: 0.950055423594616\n",
      "\n",
      "Model: XGBRegressor\n",
      "Model Performance for Training set:\n",
      "Root Mean Squared Error: 0.000709753979502219\n",
      "Mean Absolute Error: 0.0005348429960363052\n",
      "R2 Score: 0.9999999989576875\n",
      "-----------------------------------------------------------\n",
      "Model Performance for Testing set:\n",
      "Root Mean Squared Error: 6.394504197645466\n",
      "Mean Absolute Error: 5.998497009277344\n",
      "R2 Score: 0.9514374300074757\n",
      "\n"
     ]
    }
   ],
   "source": [
    "# taringin model\n",
    "\n",
    "# Function to evaluate model performance\n",
    "def evaluate_model(true, predicted):\n",
    "    # Calculate Mean Absolute Error (MAE)\n",
    "    mae = mean_absolute_error(true, predicted)\n",
    "    \n",
    "    # Calculate Root Mean Squared Error (RMSE)\n",
    "    mse = mean_squared_error(true, predicted)\n",
    "    rmse = np.sqrt(mse)\n",
    "    \n",
    "    # Calculate R-squared (R2) score\n",
    "    r2_square = r2_score(true, predicted)\n",
    "    \n",
    "    return mae, rmse, r2_square\n",
    "\n",
    "# Create a dictionary of regression models\n",
    "models = {\n",
    "    \"Linear Regression\": LinearRegression(),\n",
    "    \"Lasso\": Lasso(),\n",
    "    \"Ridge\": Ridge(),\n",
    "    \"k-Neighbors Regression\": KNeighborsRegressor(),\n",
    "    \"Decision Tree\": DecisionTreeRegressor(),\n",
    "    \"Random Forest Regressor\": RandomForestRegressor(n_estimators=100, random_state=0),\n",
    "    \"AdaBoost Regressor\": AdaBoostRegressor(),\n",
    "    \"XGBRegressor\": XGBRegressor()\n",
    "}\n",
    "\n",
    "# Loop through each model and evaluate its performance\n",
    "for model_name, model in models.items():\n",
    "    # Fit the model on the training data\n",
    "    model.fit(x_train, y_train)\n",
    "\n",
    "    # Make predictions on both the training and testing datasets\n",
    "    y_train_pred = model.predict(x_train)\n",
    "    y_test_pred = model.predict(x_test)\n",
    "\n",
    "    # Evaluate the model on the training dataset\n",
    "    model_train_mae, model_train_rmse, model_train_r2 = evaluate_model(y_train, y_train_pred)\n",
    "\n",
    "    # Evaluate the model on the testing dataset\n",
    "    model_test_mae, model_test_rmse, model_test_r2 = evaluate_model(y_test, y_test_pred)\n",
    "\n",
    "    # Display model performance metrics\n",
    "    print(f\"Model: {model_name}\")\n",
    "    \n",
    "    print(\"Model Performance for Training set:\")\n",
    "    print('Root Mean Squared Error:', model_train_rmse)\n",
    "    print(\"Mean Absolute Error:\", model_train_mae)\n",
    "    print(\"R2 Score:\", model_train_r2)\n",
    "\n",
    "    print(\"-----------------------------------------------------------\")\n",
    "    \n",
    "    print(\"Model Performance for Testing set:\")\n",
    "    print('Root Mean Squared Error:', model_test_rmse)\n",
    "    print('Mean Absolute Error:', model_test_mae)\n",
    "    print('R2 Score:', model_test_r2)\n",
    "    print()\n"
   ]
  },
  {
   "cell_type": "markdown",
   "id": "531135bb",
   "metadata": {},
   "source": [
    "Linear Regression and ridge regression have the highest accuracy"
   ]
  }
 ],
 "metadata": {
  "kernelspec": {
   "display_name": "Python 3 (ipykernel)",
   "language": "python",
   "name": "python3"
  },
  "language_info": {
   "codemirror_mode": {
    "name": "ipython",
    "version": 3
   },
   "file_extension": ".py",
   "mimetype": "text/x-python",
   "name": "python",
   "nbconvert_exporter": "python",
   "pygments_lexer": "ipython3",
   "version": "3.9.12"
  }
 },
 "nbformat": 4,
 "nbformat_minor": 5
}
